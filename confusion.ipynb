{
 "cells": [
  {
   "cell_type": "code",
   "execution_count": 5,
   "metadata": {},
   "outputs": [
    {
     "name": "stdout",
     "output_type": "stream",
     "text": [
      "(110219, 9)\n",
      "[[ 117 2357  139]\n",
      " [  10   49 3711]]\n"
     ]
    }
   ],
   "source": [
    "import tomlkit\n",
    "import json\n",
    "import numpy as np\n",
    "from pathlib import Path\n",
    "\n",
    "step = 100\n",
    "log_dir = Path(\"records/bc5cdr-1.0/mproto/confusion/2022-12-23_17-47-12.791247\")\n",
    "# step = 150\n",
    "# log_dir = Path(\"records/conll03-1.0/mproto/confusion/2022-12-29_15-38-08.957818\")\n",
    "\n",
    "ids_path = log_dir / \"detail_log\" / \"assignments{}.json\".format(step)\n",
    "assignments_path = ids_path.with_name(ids_path.stem + \".npy\")\n",
    "\n",
    "with (log_dir / \"cfg.toml\").open('r', encoding=\"utf8\") as rf:\n",
    "    cfg = tomlkit.load(rf)\n",
    "num_proto_per_type = cfg[\"model\"][\"num_proto_per_type\"]\n",
    "for pipe in cfg[\"task\"][\"datasets\"][\"train\"][\"pipes\"]:\n",
    "    if pipe[\"type\"] == \"alchemy.pipeline.lst.SequenceWrapper\":\n",
    "        samples_path = Path(pipe[\"datapipe\"][0])\n",
    "meta_path = Path(cfg[\"task\"][\"meta\"])\n",
    "\n",
    "with meta_path.open('r', encoding=\"utf8\") as rf:\n",
    "    meta = json.load(rf)\n",
    "id2type = [\"None\"]\n",
    "# specified entity types\n",
    "for i, (key, v) in enumerate(meta['entities'].items()):\n",
    "    if key == \"None\":\n",
    "        pass\n",
    "    else:\n",
    "        id2type.append(key)\n",
    "type2id = {v: i for i, v in enumerate(id2type)}\n",
    "\n",
    "id2sample = {}\n",
    "with samples_path.open('r', encoding=\"utf8\") as rf:\n",
    "    for line in rf:\n",
    "        sample = json.loads(line)\n",
    "        labels = np.zeros(len(sample[\"tokens\"]), dtype=int)\n",
    "        for m in sample[\"entities\"]:\n",
    "            labels[m[\"start\"]:m[\"end\"]] = type2id[m[\"type\"]]\n",
    "        sample[\"labels\"] = labels\n",
    "        hu_labels = np.zeros(len(sample[\"tokens\"]), dtype=int)\n",
    "        for m in sample[\"human_entities\"]:\n",
    "            hu_labels[m[\"start\"]:m[\"end\"]] = type2id[m[\"type\"]]\n",
    "        sample[\"hu_labels\"] = hu_labels\n",
    "        id2sample[sample[\"id\"]] = sample\n",
    "\n",
    "assignments = np.load(assignments_path)\n",
    "print(assignments.shape)\n",
    "batches = []\n",
    "batch_nones = []\n",
    "\n",
    "with ids_path.open('r', encoding=\"utf8\") as rf:\n",
    "    ids = json.load(rf)\n",
    "    for batch_ids in ids:\n",
    "        batches.append([])\n",
    "        batch_nones.append(0)\n",
    "        for sample_id in batch_ids:\n",
    "            sample = id2sample[sample_id]\n",
    "            batches[-1].append(sample)\n",
    "            batch_nones[-1] += sum(sample[\"labels\"] == 0)\n",
    "\n",
    "assert sum(batch_nones) == len(assignments)\n",
    "pivots = np.cumsum(np.asarray(batch_nones))\n",
    "assignments = np.split(assignments, pivots)\n",
    "confusion_mat = np.zeros((len(id2type) - 1, len(id2type)), dtype=int)       # hard confusion or soft ?\n",
    "for batch, b_assignments in zip(batches, assignments):\n",
    "    hu_labels = []\n",
    "    for sample in batch:\n",
    "        for label, hu_label in zip(sample[\"labels\"], sample[\"hu_labels\"]):\n",
    "            if label == 0:\n",
    "                hu_labels.append(hu_label)\n",
    "    assert len(hu_labels) == b_assignments.shape[0], \"{} != {}\".format(\n",
    "        b_assignments.shape, hu_labels\n",
    "    )\n",
    "    for assignment, hu_label in zip(b_assignments, hu_labels):\n",
    "        if hu_label == 0:\n",
    "            # 本来就是噪声\n",
    "            continue\n",
    "        else:\n",
    "            hu_label -= 1\n",
    "        assigned_pid = np.argmax(assignment)\n",
    "        assigned_tid = assigned_pid // num_proto_per_type\n",
    "        confusion_mat[hu_label, assigned_tid] += 1\n",
    "\n",
    "print(confusion_mat)\n",
    "\n"
   ]
  },
  {
   "cell_type": "code",
   "execution_count": 6,
   "metadata": {},
   "outputs": [
    {
     "data": {
      "image/png": "[encoded data removed]",
      "text/plain": [
       "<Figure size 400x700 with 1 Axes>"
      ]
     },
     "metadata": {},
     "output_type": "display_data"
    }
   ],
   "source": [
    "import seaborn as sns\n",
    "import matplotlib.pyplot as plt\n",
    "\n",
    "plt.figure(figsize=(4, 7))\n",
    "display_ptypes = list(id2type)\n",
    "display_ptypes[0] = \"O\"         # 为了和论文一致将None改成O\n",
    "sns.heatmap(\n",
    "    confusion_mat, annot=True, fmt=\"d\",square=True, cmap=\"Blues\",\n",
    "    cbar=False,\n",
    "    xticklabels=display_ptypes, yticklabels=id2type[1:],\n",
    ")\n",
    "plt.show()"
   ]
  }
 ],
 "metadata": {
  "kernelspec": {
   "display_name": "Python 3.8.15 ('mproto')",
   "language": "python",
   "name": "python3"
  },
  "language_info": {
   "codemirror_mode": {
    "name": "ipython",
    "version": 3
   },
   "file_extension": ".py",
   "mimetype": "text/x-python",
   "name": "python",
   "nbconvert_exporter": "python",
   "pygments_lexer": "ipython3",
   "version": "3.8.15"
  },
  "orig_nbformat": 4,
  "vscode": {
   "interpreter": {
    "hash": "cac43687ea8c2641e8d542cd0bf92927e81b0f1ad6205e1550d1a3fa4592ba4c"
   }
  }
 },
 "nbformat": 4,
 "nbformat_minor": 2
}
